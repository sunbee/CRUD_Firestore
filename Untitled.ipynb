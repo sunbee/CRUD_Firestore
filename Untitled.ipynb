{
 "cells": [
  {
   "cell_type": "code",
   "execution_count": 1,
   "metadata": {},
   "outputs": [],
   "source": [
    "import os\n",
    "from firebase_admin import credentials, firestore, initialize_app, db"
   ]
  },
  {
   "cell_type": "code",
   "execution_count": 2,
   "metadata": {},
   "outputs": [],
   "source": [
    "cred = credentials.Certificate('shiva.json')\n",
    "default_app = initialize_app(cred, {\n",
    "    \"databaseURL\": \"https://shiva-923e9.firebaseio.com\"\n",
    "})"
   ]
  },
  {
   "cell_type": "code",
   "execution_count": 26,
   "metadata": {},
   "outputs": [],
   "source": [
    "root = db.reference(\"Gods\")"
   ]
  },
  {
   "cell_type": "code",
   "execution_count": 29,
   "metadata": {},
   "outputs": [
    {
     "name": "stdout",
     "output_type": "stream",
     "text": [
      "<class 'firebase_admin.db.Reference'>\n"
     ]
    }
   ],
   "source": [
    "print(type(root))"
   ]
  },
  {
   "cell_type": "code",
   "execution_count": 28,
   "metadata": {},
   "outputs": [
    {
     "name": "stdout",
     "output_type": "stream",
     "text": [
      "None\n"
     ]
    }
   ],
   "source": [
    "print(root.get())"
   ]
  },
  {
   "cell_type": "code",
   "execution_count": 30,
   "metadata": {},
   "outputs": [],
   "source": [
    "ref = db.reference('/')\n",
    "ref.set({\n",
    "        'boxes': \n",
    "            {\n",
    "                'box001': {\n",
    "                    'color': 'red',\n",
    "                    'width': 1,\n",
    "                    'height': 3,\n",
    "                    'length': 2\n",
    "                },\n",
    "                'box002': {\n",
    "                    'color': 'green',\n",
    "                    'width': 1,\n",
    "                    'height': 2,\n",
    "                    'length': 3\n",
    "                },\n",
    "                'box003': {\n",
    "                    'color': 'yellow',\n",
    "                    'width': 3,\n",
    "                    'height': 2,\n",
    "                    'length': 1\n",
    "                }\n",
    "            }\n",
    "        })"
   ]
  },
  {
   "cell_type": "code",
   "execution_count": null,
   "metadata": {},
   "outputs": [],
   "source": []
  }
 ],
 "metadata": {
  "kernelspec": {
   "display_name": "Python 3",
   "language": "python",
   "name": "python3"
  },
  "language_info": {
   "codemirror_mode": {
    "name": "ipython",
    "version": 3
   },
   "file_extension": ".py",
   "mimetype": "text/x-python",
   "name": "python",
   "nbconvert_exporter": "python",
   "pygments_lexer": "ipython3",
   "version": "3.7.3"
  }
 },
 "nbformat": 4,
 "nbformat_minor": 2
}
