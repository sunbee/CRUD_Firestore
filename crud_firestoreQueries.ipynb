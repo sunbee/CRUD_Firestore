{
 "cells": [
  {
   "cell_type": "code",
   "execution_count": 1,
   "metadata": {},
   "outputs": [],
   "source": [
    "import os\n",
    "from firebase_admin import credentials, firestore, initialize_app\n",
    "\n",
    "# Ref: https://firebase.google.com/docs/firestore/query-data/get-data\n",
    "# Ref: https://firebase.google.com/docs/firestore/query-data/queries *** NEXT: FOR PROJECT WORK ***\n",
    "# Querying Cloud Store to find documents in a collection by search criteria"
   ]
  },
  {
   "cell_type": "code",
   "execution_count": 2,
   "metadata": {},
   "outputs": [],
   "source": [
    "cred = credentials.Certificate('shiva.json')\n",
    "default_app = initialize_app(cred) # Do we need it? Yes!\n",
    "db = firestore.client()"
   ]
  },
  {
   "cell_type": "code",
   "execution_count": 15,
   "metadata": {},
   "outputs": [],
   "source": [
    "# Create a class in ORM-style.\n",
    "# To serialize an object for database operations, \n",
    "# 1. Implement __repr__ to render attributes in a serializable format (dict/json)\n",
    "# 2. Use vars() for identical result\n",
    "\n",
    "class City(object):\n",
    "    def __init__(self, name, state, country, capital=False, population=0,\n",
    "                 regions=[]):\n",
    "        self.name = name\n",
    "        self.state = state\n",
    "        self.country = country\n",
    "        self.capital = capital\n",
    "        self.population = population\n",
    "        self.regions = regions\n",
    "        \n",
    "\n",
    "    @staticmethod\n",
    "    def from_dict(source):\n",
    "        # ...\n",
    "        pass\n",
    "    \n",
    "    def to_dict(self):\n",
    "        # ...\n",
    "        pass\n",
    "\n",
    "    def __repr__(self):\n",
    "        return(\n",
    "            u'City(name={}, state={}, country={}, capital={}, population={}, regions={})'\n",
    "            .format(self.name, self.state, self.country, self.capital, self.population, self.regions))\n",
    "    \n",
    "# Ref: https://stackoverflow.com/questions/61517/python-dictionary-from-an-objects-fields"
   ]
  },
  {
   "cell_type": "code",
   "execution_count": 46,
   "metadata": {},
   "outputs": [
    {
     "name": "stdout",
     "output_type": "stream",
     "text": [
      "Serialized to a dict as {'name': 'San Francisco', 'state': 'CA', 'country': 'USA', 'capital': False, 'population': 860000, 'regions': ['west_coast', 'norcal']}\n",
      "Serialized to a dict as {'name': 'San Francisco', 'state': 'CA', 'country': 'USA', 'capital': False, 'population': 860000, 'regions': ['west_coast', 'norcal']}\n"
     ]
    }
   ],
   "source": [
    "# Initialize an object and introspect by serialization\n",
    "# Serialization is required to render an object as a json string\n",
    "# for insertion into firestore database\n",
    "SF = City(u'San Francisco', u'CA', u'USA', False, 860000,\n",
    "         [u'west_coast', u'norcal'])\n",
    "print(\"Serialized to a dict as {}\".format(SF.__dict__))\n",
    "print(\"Serialized to a dict as {}\".format(vars(SF)))"
   ]
  },
  {
   "cell_type": "code",
   "execution_count": 47,
   "metadata": {},
   "outputs": [
    {
     "data": {
      "text/plain": [
       "update_time {\n",
       "  seconds: 1573524496\n",
       "  nanos: 537662000\n",
       "}"
      ]
     },
     "execution_count": 47,
     "metadata": {},
     "output_type": "execute_result"
    }
   ],
   "source": [
    "# (C)RUD - Insert new data in a document\n",
    "# Note: Serialization with __dict__ enables inserting objects in database as dict/json\n",
    "# Optionally, use vars() which accepts the object as an argument.\n",
    "cities_ref = db.collection(u'cities')\n",
    "cities_ref.document(u'SF').set(\n",
    "    City(u'San Francisco', u'CA', u'USA', False, 860000,\n",
    "         [u'west_coast', u'norcal']).__dict__)\n",
    "cities_ref.document(u'LA').set(\n",
    "    City(u'Los Angeles', u'CA', u'USA', False, 3900000,\n",
    "         [u'west_coast', u'socal']).__dict__)\n",
    "cities_ref.document(u'DC').set(\n",
    "    City(u'Washington D.C.', None, u'USA', True, 680000,\n",
    "         [u'east_coast']).__dict__)\n",
    "cities_ref.document(u'TOK').set(\n",
    "    City(u'Tokyo', None, u'Japan', True, 9000000,\n",
    "         [u'kanto', u'honshu']).__dict__)\n",
    "cities_ref.document(u'BJ').set(\n",
    "    City(u'Beijing', None, u'China', True, 21500000, [u'hebei']).__dict__)"
   ]
  },
  {
   "cell_type": "code",
   "execution_count": 67,
   "metadata": {},
   "outputs": [
    {
     "name": "stdout",
     "output_type": "stream",
     "text": [
      "Retrieved CA cities with id LA and details {'name': 'Los Angeles', 'population': 3900000, 'regions': ['west_coast', 'socal'], 'country': 'USA', 'state': 'CA', 'capital': False}.\n",
      "Retrieved CA cities with id SF and details {'name': 'San Francisco', 'regions': ['west_coast', 'norcal'], 'population': 860000, 'country': 'USA', 'state': 'CA', 'capital': False}.\n",
      "Retrieved capital with id BJ,name Beijing and population 21500000\n",
      "Retrieved capital with id DC,name Washington D.C. and population 680000\n",
      "Retrieved capital with id TOK,name Tokyo and population 9000000\n",
      "Retrieved populous city with id LA in USA with population 3900000\n",
      "Retrieved populous city with id TOK in Japan with population 9000000\n",
      "Retrieved populous city with id BJ in China with population 21500000\n",
      "See the sunset at LA in CA\n",
      "See the sunset at SF in CA\n",
      "Tokyo is a populous capital city in Japan\n",
      "Beijing is a populous capital city in China\n"
     ]
    }
   ],
   "source": [
    "# C(R)UD - Retrieve all documents in store\n",
    "\n",
    "# Get all cities in California\n",
    "cities_ref = db.collection(u'cities')\n",
    "cities_query = cities_ref.where(u'state', u'==', u'CA')\n",
    "for city in cities_query.stream():\n",
    "    print(u\"Retrieved CA cities with id {} and details {}.\".format(city.id, city.to_dict()))\n",
    "\n",
    "# Get all cities that are national capitals\n",
    "capitals_query = cities_ref.where(u'capital', u'==', True)\n",
    "for capital in capitals_query.stream():\n",
    "    print(u\"Retrieved capital with id {},name {} and population {}\".format(capital.id, \n",
    "                                                                           capital.to_dict()[u\"name\"],\n",
    "                                                                           capital.to_dict()[u\"population\"]))\n",
    "# Get all cities with a population in excess of 1M\n",
    "pop_query = cities_ref.where(u'population', u'>', 1000000)\n",
    "for populous_city in pop_query.stream():\n",
    "    print(u'Retrieved populous city with id {} in {} with population {}'.format(populous_city.id,\n",
    "                                                                               populous_city.to_dict()[u\"country\"],\n",
    "                                                                               populous_city.to_dict()[u\"population\"]))\n",
    "    \n",
    "# Get cities on the west coast\n",
    "coast_query = cities_ref.where(u'regions', u'array_contains', u'west_coast')\n",
    "for coastal_city in coast_query.stream():\n",
    "    print(\"See the sunset at {} in {}\".format(coastal_city.id, coastal_city.to_dict()[u'state']))\n",
    "    \n",
    "# Get the populous capital cities\n",
    "# Requires indexing on the compound key,\n",
    "# if none exists, one will be suggested\n",
    "popCapital_query = cities_ref.where(u'population', u'>=', 1000000).where(u'capital', u'==', True)\n",
    "for populous_capital in popCapital_query.stream():\n",
    "    print(\"{} is a populous capital city in {}\".format(populous_capital.to_dict()[u'name'], \n",
    "                                                      populous_capital.to_dict()[u'country']))"
   ]
  },
  {
   "cell_type": "code",
   "execution_count": null,
   "metadata": {},
   "outputs": [],
   "source": []
  }
 ],
 "metadata": {
  "kernelspec": {
   "display_name": "Python 3",
   "language": "python",
   "name": "python3"
  },
  "language_info": {
   "codemirror_mode": {
    "name": "ipython",
    "version": 3
   },
   "file_extension": ".py",
   "mimetype": "text/x-python",
   "name": "python",
   "nbconvert_exporter": "python",
   "pygments_lexer": "ipython3",
   "version": "3.7.3"
  }
 },
 "nbformat": 4,
 "nbformat_minor": 2
}
