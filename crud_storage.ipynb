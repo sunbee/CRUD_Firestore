{
 "cells": [
  {
   "cell_type": "code",
   "execution_count": 1,
   "metadata": {},
   "outputs": [],
   "source": [
    "import sys\n",
    "import requests\n",
    "import firebase_admin\n",
    "from firebase_admin import credentials, initialize_app, storage\n",
    "\n",
    "# Ref: https://cloud.google.com/storage/docs/how-to\n",
    "# Look at Python code samples for methods associated with bucket and blob and usage patterns.\n",
    "# Since these examples and code snippets are basded on google cloud storage, use dir(object) to look up afterwards.\n",
    "\n",
    "# Caution: There is no built-in check that file exists. Collisions will result in files being over-written,\n",
    "# unless logic is implemented in code to manage differently."
   ]
  },
  {
   "cell_type": "code",
   "execution_count": 2,
   "metadata": {},
   "outputs": [],
   "source": [
    "cred = credentials.Certificate('shiva.json')\n",
    "firebase_admin.initialize_app(cred, {\n",
    "    'storageBucket': 'shiva-923e9.appspot.com'\n",
    "})\n",
    "bucket = storage.bucket()"
   ]
  },
  {
   "cell_type": "code",
   "execution_count": 21,
   "metadata": {},
   "outputs": [
    {
     "name": "stdout",
     "output_type": "stream",
     "text": [
      "https://storage.googleapis.com/shiva-923e9.appspot.com/TPS101.JPG\n"
     ]
    }
   ],
   "source": [
    "# (C)RUD - Upload a file to storage bucket\n",
    "blob = bucket.blob('TPS101.JPG')         # Destination   \n",
    "blob.upload_from_filename('TPS100.JPG')  # Source\n",
    "print(blob.public_url)                   # Path to"
   ]
  },
  {
   "cell_type": "code",
   "execution_count": 22,
   "metadata": {},
   "outputs": [
    {
     "name": "stdout",
     "output_type": "stream",
     "text": [
      "Coursera BA5H45F2CW3N.jpg of type image/jpeg has location https://storage.googleapis.com/shiva-923e9.appspot.com/Coursera%20BA5H45F2CW3N.jpg\n",
      "DSCN0380.JPG of type image/jpeg has location https://storage.googleapis.com/shiva-923e9.appspot.com/DSCN0380.JPG\n",
      "TPS100.JPG of type image/jpeg has location https://storage.googleapis.com/shiva-923e9.appspot.com/TPS100.JPG\n",
      "TPS101.JPG of type image/jpeg has location https://storage.googleapis.com/shiva-923e9.appspot.com/TPS101.JPG\n"
     ]
    }
   ],
   "source": [
    "# C(R)UD - List all files\n",
    "for this_blob in bucket.list_blobs():\n",
    "    print(\"{} of type {} has location {}\".format(this_blob.name, this_blob.content_type, this_blob.public_url))\n",
    "    this_blob.download_to_filename(this_blob.name)"
   ]
  },
  {
   "cell_type": "code",
   "execution_count": 19,
   "metadata": {},
   "outputs": [
    {
     "data": {
      "text/plain": [
       "<bound method Bucket.list_blobs of <Bucket: shiva-923e9.appspot.com>>"
      ]
     },
     "execution_count": 19,
     "metadata": {},
     "output_type": "execute_result"
    }
   ],
   "source": [
    "dir(bucket)\n",
    "getattr(bucket, 'list_blobs')"
   ]
  }
 ],
 "metadata": {
  "kernelspec": {
   "display_name": "Python 3",
   "language": "python",
   "name": "python3"
  },
  "language_info": {
   "codemirror_mode": {
    "name": "ipython",
    "version": 3
   },
   "file_extension": ".py",
   "mimetype": "text/x-python",
   "name": "python",
   "nbconvert_exporter": "python",
   "pygments_lexer": "ipython3",
   "version": "3.7.3"
  }
 },
 "nbformat": 4,
 "nbformat_minor": 2
}
