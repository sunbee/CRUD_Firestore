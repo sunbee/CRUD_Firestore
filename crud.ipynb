{
 "cells": [
  {
   "cell_type": "code",
   "execution_count": 1,
   "metadata": {},
   "outputs": [],
   "source": [
    "import os\n",
    "from firebase_admin import credentials, firestore, initialize_app\n",
    "\n",
    "# Ref: https://firebase.google.com/docs/firestore/query-data/get-data\n",
    "# Ref: https://firebase.google.com/docs/firestore/query-data/queries *** NEXT: FOR PROJECT WORK ***\n",
    "# Querying Cloud Store to find documents in a collection by search criteria\n",
    "\n",
    "# Ref: https://googleapis.dev/python/firestore/1.3.0/index.html\n",
    "# Ref: https://googleapis.dev/python/firestore/1.3.0/client.html *** VERY USEFUL ***\n",
    "# Guide to CRUD on Cloud Store\n",
    "\n",
    "# Ref: https://cloud.google.com/community/tutorials/building-flask-api-with-cloud-firestore-and-deploying-to-cloud-run\n",
    "# An example with Flask server, although the intent of Firestore is to cut out the server,\n",
    "# so all that is required to build an app is a client on Firestore's \"Backend as a Service (Baas)\"\n",
    "\n",
    "# Ref: https://firebase.google.com/docs/auth/?authuser=0\n",
    "# Enable authentication so a user can securely access and store and access data \n",
    "\n",
    "# Ref: https://firebase.googleblog.com/2017/07/accessing-database-from-python-admin-sdk.html\n",
    "# The REALTIME DATABASE is an alternative to CLoud Store that saves data entirely as a JSON tree on cloud\n",
    "# *** URL ACCESS DOES NOT APPLY TO CLOUD STORE STRUCTURED AS COLLECTION AND DOCUMENTS ***\n",
    "\n",
    "# Ref: https://googleapis.dev/python/firestore/1.3.0/index.html\n",
    "# Try storage and is this same as Google Cloud Storage for files like images, etc."
   ]
  },
  {
   "cell_type": "code",
   "execution_count": 2,
   "metadata": {},
   "outputs": [],
   "source": [
    "cred = credentials.Certificate('shiva.json')\n",
    "default_app = initialize_app(cred) # Do we need it? Yes!\n",
    "db = firestore.client()"
   ]
  },
  {
   "cell_type": "code",
   "execution_count": 3,
   "metadata": {},
   "outputs": [],
   "source": [
    "divine_ref = db.collection('Gods')"
   ]
  },
  {
   "cell_type": "code",
   "execution_count": 13,
   "metadata": {},
   "outputs": [
    {
     "name": "stdout",
     "output_type": "stream",
     "text": [
      "{'Consort': 'Saraswati', 'Job': 'Creator'}\n"
     ]
    }
   ],
   "source": [
    "# C(R)UD - Retrieve a document by name\n",
    "Brahma = divine_ref.document('Brahma').get()\n",
    "print(Brahma.to_dict())"
   ]
  },
  {
   "cell_type": "code",
   "execution_count": 14,
   "metadata": {},
   "outputs": [
    {
     "data": {
      "text/plain": [
       "{'Consort': 'Laxmi',\n",
       " 'Avatars': ['Matsya', 'Varaha', 'Krishna', 'Narasimha'],\n",
       " 'Job': 'Sustainer'}"
      ]
     },
     "execution_count": 14,
     "metadata": {},
     "output_type": "execute_result"
    }
   ],
   "source": [
    "# CR(U)D - Update a document\n",
    "divine_ref.document('Brahma').update({'Consort': 'Saraswati'})\n",
    "divine_ref.document('Vishnu').update({'Avatars': ['Matsya', 'Varaha', 'Krishna', 'Narasimha']})\n",
    "divine_ref.document('Vishnu').get().to_dict()"
   ]
  },
  {
   "cell_type": "code",
   "execution_count": 16,
   "metadata": {},
   "outputs": [
    {
     "data": {
      "text/plain": [
       "{'Aliases': ['Mahadev', 'Mangesh', 'Shankar']}"
      ]
     },
     "execution_count": 16,
     "metadata": {},
     "output_type": "execute_result"
    }
   ],
   "source": [
    "# (C)RUD - Insert new data in a document\n",
    "divine_ref.document('Shiva').set({\"Aliases\": [\"Mahadev\", \"Mangesh\", \"Shankar\"]})\n",
    "divine_ref.document(\"Shiva\").get().to_dict()"
   ]
  },
  {
   "cell_type": "code",
   "execution_count": 19,
   "metadata": {},
   "outputs": [
    {
     "name": "stdout",
     "output_type": "stream",
     "text": [
      "Brahma => {'Consort': 'Saraswati', 'Job': 'Creator'}\n",
      "Shiva => {'Aliases': ['Mahadev', 'Mangesh', 'Shankar']}\n",
      "Vishnu => {'Consort': 'Laxmi', 'Avatars': ['Matsya', 'Varaha', 'Krishna', 'Narasimha'], 'Job': 'Sustainer'}\n"
     ]
    }
   ],
   "source": [
    "# C(R)UD - Retrieve all documents in store\n",
    "docs = divine_ref.stream()  # Hitherto get()\n",
    "for doc in docs:\n",
    "    print(\"{} => {}\".format(doc.id, doc.to_dict()))"
   ]
  }
 ],
 "metadata": {
  "kernelspec": {
   "display_name": "Python 3",
   "language": "python",
   "name": "python3"
  },
  "language_info": {
   "codemirror_mode": {
    "name": "ipython",
    "version": 3
   },
   "file_extension": ".py",
   "mimetype": "text/x-python",
   "name": "python",
   "nbconvert_exporter": "python",
   "pygments_lexer": "ipython3",
   "version": "3.7.3"
  }
 },
 "nbformat": 4,
 "nbformat_minor": 2
}
